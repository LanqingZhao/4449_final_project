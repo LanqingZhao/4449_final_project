{
  "cells": [
    {
      "cell_type": "markdown",
      "id": "2db4a450",
      "metadata": {
        "id": "2db4a450"
      },
      "source": [
        "### 0 Import necessary packages"
      ]
    },
    {
      "cell_type": "code",
      "execution_count": null,
      "id": "8df0deca",
      "metadata": {
        "id": "8df0deca"
      },
      "outputs": [],
      "source": [
        "import pandas as pd\n",
        "from sklearn.model_selection import train_test_split\n",
        "import re\n",
        "import numpy as np\n",
        "from nltk.tokenize import word_tokenize\n",
        "from nltk.stem import PorterStemmer\n",
        "from nltk.corpus import stopwords\n",
        "from sklearn.svm import SVC\n",
        "from sklearn.metrics import accuracy_score, classification_report\n",
        "from sklearn.model_selection import GridSearchCV\n",
        "from sklearn.linear_model import LogisticRegression\n",
        "import nltk\n",
        "from sklearn.neighbors import  KNeighborsClassifier\n",
        "from tensorflow.keras import regularizers"
      ]
    },
    {
      "cell_type": "code",
      "source": [
        "from google.colab import drive\n",
        "drive.mount('/content/drive')\n",
        "nltk.download('stopwords')\n",
        "nltk.download('punkt')"
      ],
      "metadata": {
        "colab": {
          "base_uri": "https://localhost:8080/"
        },
        "id": "G2umn6RPBzKp",
        "outputId": "197977d1-6705-4cc6-f31e-a4ca5e65d3c1"
      },
      "id": "G2umn6RPBzKp",
      "execution_count": null,
      "outputs": [
        {
          "output_type": "stream",
          "name": "stdout",
          "text": [
            "Drive already mounted at /content/drive; to attempt to forcibly remount, call drive.mount(\"/content/drive\", force_remount=True).\n"
          ]
        },
        {
          "output_type": "stream",
          "name": "stderr",
          "text": [
            "[nltk_data] Downloading package stopwords to /root/nltk_data...\n",
            "[nltk_data]   Unzipping corpora/stopwords.zip.\n",
            "[nltk_data] Downloading package punkt to /root/nltk_data...\n",
            "[nltk_data]   Unzipping tokenizers/punkt.zip.\n"
          ]
        },
        {
          "output_type": "execute_result",
          "data": {
            "text/plain": [
              "True"
            ]
          },
          "metadata": {},
          "execution_count": 3
        }
      ]
    },
    {
      "cell_type": "markdown",
      "id": "7297f1e5",
      "metadata": {
        "id": "7297f1e5"
      },
      "source": [
        "### 1 load data and pre-processing"
      ]
    },
    {
      "cell_type": "code",
      "execution_count": null,
      "id": "c5265a8d",
      "metadata": {
        "colab": {
          "base_uri": "https://localhost:8080/",
          "height": 204
        },
        "id": "c5265a8d",
        "outputId": "8b7d473e-a476-4556-dcc2-87277ea9aa81"
      },
      "outputs": [
        {
          "output_type": "execute_result",
          "data": {
            "text/plain": [
              "   Unnamed: 0                                          statement   status\n",
              "0           0                                         oh my gosh  Anxiety\n",
              "1           1  trouble sleeping, confused mind, restless hear...  Anxiety\n",
              "2           2  All wrong, back off dear, forward doubt. Stay ...  Anxiety\n",
              "3           3  I've shifted my focus to something else but I'...  Anxiety\n",
              "4           4  I'm restless and restless, it's been a month n...  Anxiety"
            ],
            "text/html": [
              "\n",
              "  <div id=\"df-8f23d2f8-33c3-462b-84eb-7bbe4cf5b517\" class=\"colab-df-container\">\n",
              "    <div>\n",
              "<style scoped>\n",
              "    .dataframe tbody tr th:only-of-type {\n",
              "        vertical-align: middle;\n",
              "    }\n",
              "\n",
              "    .dataframe tbody tr th {\n",
              "        vertical-align: top;\n",
              "    }\n",
              "\n",
              "    .dataframe thead th {\n",
              "        text-align: right;\n",
              "    }\n",
              "</style>\n",
              "<table border=\"1\" class=\"dataframe\">\n",
              "  <thead>\n",
              "    <tr style=\"text-align: right;\">\n",
              "      <th></th>\n",
              "      <th>Unnamed: 0</th>\n",
              "      <th>statement</th>\n",
              "      <th>status</th>\n",
              "    </tr>\n",
              "  </thead>\n",
              "  <tbody>\n",
              "    <tr>\n",
              "      <th>0</th>\n",
              "      <td>0</td>\n",
              "      <td>oh my gosh</td>\n",
              "      <td>Anxiety</td>\n",
              "    </tr>\n",
              "    <tr>\n",
              "      <th>1</th>\n",
              "      <td>1</td>\n",
              "      <td>trouble sleeping, confused mind, restless hear...</td>\n",
              "      <td>Anxiety</td>\n",
              "    </tr>\n",
              "    <tr>\n",
              "      <th>2</th>\n",
              "      <td>2</td>\n",
              "      <td>All wrong, back off dear, forward doubt. Stay ...</td>\n",
              "      <td>Anxiety</td>\n",
              "    </tr>\n",
              "    <tr>\n",
              "      <th>3</th>\n",
              "      <td>3</td>\n",
              "      <td>I've shifted my focus to something else but I'...</td>\n",
              "      <td>Anxiety</td>\n",
              "    </tr>\n",
              "    <tr>\n",
              "      <th>4</th>\n",
              "      <td>4</td>\n",
              "      <td>I'm restless and restless, it's been a month n...</td>\n",
              "      <td>Anxiety</td>\n",
              "    </tr>\n",
              "  </tbody>\n",
              "</table>\n",
              "</div>\n",
              "    <div class=\"colab-df-buttons\">\n",
              "\n",
              "  <div class=\"colab-df-container\">\n",
              "    <button class=\"colab-df-convert\" onclick=\"convertToInteractive('df-8f23d2f8-33c3-462b-84eb-7bbe4cf5b517')\"\n",
              "            title=\"Convert this dataframe to an interactive table.\"\n",
              "            style=\"display:none;\">\n",
              "\n",
              "  <svg xmlns=\"http://www.w3.org/2000/svg\" height=\"24px\" viewBox=\"0 -960 960 960\">\n",
              "    <path d=\"M120-120v-720h720v720H120Zm60-500h600v-160H180v160Zm220 220h160v-160H400v160Zm0 220h160v-160H400v160ZM180-400h160v-160H180v160Zm440 0h160v-160H620v160ZM180-180h160v-160H180v160Zm440 0h160v-160H620v160Z\"/>\n",
              "  </svg>\n",
              "    </button>\n",
              "\n",
              "  <style>\n",
              "    .colab-df-container {\n",
              "      display:flex;\n",
              "      gap: 12px;\n",
              "    }\n",
              "\n",
              "    .colab-df-convert {\n",
              "      background-color: #E8F0FE;\n",
              "      border: none;\n",
              "      border-radius: 50%;\n",
              "      cursor: pointer;\n",
              "      display: none;\n",
              "      fill: #1967D2;\n",
              "      height: 32px;\n",
              "      padding: 0 0 0 0;\n",
              "      width: 32px;\n",
              "    }\n",
              "\n",
              "    .colab-df-convert:hover {\n",
              "      background-color: #E2EBFA;\n",
              "      box-shadow: 0px 1px 2px rgba(60, 64, 67, 0.3), 0px 1px 3px 1px rgba(60, 64, 67, 0.15);\n",
              "      fill: #174EA6;\n",
              "    }\n",
              "\n",
              "    .colab-df-buttons div {\n",
              "      margin-bottom: 4px;\n",
              "    }\n",
              "\n",
              "    [theme=dark] .colab-df-convert {\n",
              "      background-color: #3B4455;\n",
              "      fill: #D2E3FC;\n",
              "    }\n",
              "\n",
              "    [theme=dark] .colab-df-convert:hover {\n",
              "      background-color: #434B5C;\n",
              "      box-shadow: 0px 1px 3px 1px rgba(0, 0, 0, 0.15);\n",
              "      filter: drop-shadow(0px 1px 2px rgba(0, 0, 0, 0.3));\n",
              "      fill: #FFFFFF;\n",
              "    }\n",
              "  </style>\n",
              "\n",
              "    <script>\n",
              "      const buttonEl =\n",
              "        document.querySelector('#df-8f23d2f8-33c3-462b-84eb-7bbe4cf5b517 button.colab-df-convert');\n",
              "      buttonEl.style.display =\n",
              "        google.colab.kernel.accessAllowed ? 'block' : 'none';\n",
              "\n",
              "      async function convertToInteractive(key) {\n",
              "        const element = document.querySelector('#df-8f23d2f8-33c3-462b-84eb-7bbe4cf5b517');\n",
              "        const dataTable =\n",
              "          await google.colab.kernel.invokeFunction('convertToInteractive',\n",
              "                                                    [key], {});\n",
              "        if (!dataTable) return;\n",
              "\n",
              "        const docLinkHtml = 'Like what you see? Visit the ' +\n",
              "          '<a target=\"_blank\" href=https://colab.research.google.com/notebooks/data_table.ipynb>data table notebook</a>'\n",
              "          + ' to learn more about interactive tables.';\n",
              "        element.innerHTML = '';\n",
              "        dataTable['output_type'] = 'display_data';\n",
              "        await google.colab.output.renderOutput(dataTable, element);\n",
              "        const docLink = document.createElement('div');\n",
              "        docLink.innerHTML = docLinkHtml;\n",
              "        element.appendChild(docLink);\n",
              "      }\n",
              "    </script>\n",
              "  </div>\n",
              "\n",
              "\n",
              "<div id=\"df-a5427b19-c1a1-4938-89d5-fa4f78f805fb\">\n",
              "  <button class=\"colab-df-quickchart\" onclick=\"quickchart('df-a5427b19-c1a1-4938-89d5-fa4f78f805fb')\"\n",
              "            title=\"Suggest charts\"\n",
              "            style=\"display:none;\">\n",
              "\n",
              "<svg xmlns=\"http://www.w3.org/2000/svg\" height=\"24px\"viewBox=\"0 0 24 24\"\n",
              "     width=\"24px\">\n",
              "    <g>\n",
              "        <path d=\"M19 3H5c-1.1 0-2 .9-2 2v14c0 1.1.9 2 2 2h14c1.1 0 2-.9 2-2V5c0-1.1-.9-2-2-2zM9 17H7v-7h2v7zm4 0h-2V7h2v10zm4 0h-2v-4h2v4z\"/>\n",
              "    </g>\n",
              "</svg>\n",
              "  </button>\n",
              "\n",
              "<style>\n",
              "  .colab-df-quickchart {\n",
              "      --bg-color: #E8F0FE;\n",
              "      --fill-color: #1967D2;\n",
              "      --hover-bg-color: #E2EBFA;\n",
              "      --hover-fill-color: #174EA6;\n",
              "      --disabled-fill-color: #AAA;\n",
              "      --disabled-bg-color: #DDD;\n",
              "  }\n",
              "\n",
              "  [theme=dark] .colab-df-quickchart {\n",
              "      --bg-color: #3B4455;\n",
              "      --fill-color: #D2E3FC;\n",
              "      --hover-bg-color: #434B5C;\n",
              "      --hover-fill-color: #FFFFFF;\n",
              "      --disabled-bg-color: #3B4455;\n",
              "      --disabled-fill-color: #666;\n",
              "  }\n",
              "\n",
              "  .colab-df-quickchart {\n",
              "    background-color: var(--bg-color);\n",
              "    border: none;\n",
              "    border-radius: 50%;\n",
              "    cursor: pointer;\n",
              "    display: none;\n",
              "    fill: var(--fill-color);\n",
              "    height: 32px;\n",
              "    padding: 0;\n",
              "    width: 32px;\n",
              "  }\n",
              "\n",
              "  .colab-df-quickchart:hover {\n",
              "    background-color: var(--hover-bg-color);\n",
              "    box-shadow: 0 1px 2px rgba(60, 64, 67, 0.3), 0 1px 3px 1px rgba(60, 64, 67, 0.15);\n",
              "    fill: var(--button-hover-fill-color);\n",
              "  }\n",
              "\n",
              "  .colab-df-quickchart-complete:disabled,\n",
              "  .colab-df-quickchart-complete:disabled:hover {\n",
              "    background-color: var(--disabled-bg-color);\n",
              "    fill: var(--disabled-fill-color);\n",
              "    box-shadow: none;\n",
              "  }\n",
              "\n",
              "  .colab-df-spinner {\n",
              "    border: 2px solid var(--fill-color);\n",
              "    border-color: transparent;\n",
              "    border-bottom-color: var(--fill-color);\n",
              "    animation:\n",
              "      spin 1s steps(1) infinite;\n",
              "  }\n",
              "\n",
              "  @keyframes spin {\n",
              "    0% {\n",
              "      border-color: transparent;\n",
              "      border-bottom-color: var(--fill-color);\n",
              "      border-left-color: var(--fill-color);\n",
              "    }\n",
              "    20% {\n",
              "      border-color: transparent;\n",
              "      border-left-color: var(--fill-color);\n",
              "      border-top-color: var(--fill-color);\n",
              "    }\n",
              "    30% {\n",
              "      border-color: transparent;\n",
              "      border-left-color: var(--fill-color);\n",
              "      border-top-color: var(--fill-color);\n",
              "      border-right-color: var(--fill-color);\n",
              "    }\n",
              "    40% {\n",
              "      border-color: transparent;\n",
              "      border-right-color: var(--fill-color);\n",
              "      border-top-color: var(--fill-color);\n",
              "    }\n",
              "    60% {\n",
              "      border-color: transparent;\n",
              "      border-right-color: var(--fill-color);\n",
              "    }\n",
              "    80% {\n",
              "      border-color: transparent;\n",
              "      border-right-color: var(--fill-color);\n",
              "      border-bottom-color: var(--fill-color);\n",
              "    }\n",
              "    90% {\n",
              "      border-color: transparent;\n",
              "      border-bottom-color: var(--fill-color);\n",
              "    }\n",
              "  }\n",
              "</style>\n",
              "\n",
              "  <script>\n",
              "    async function quickchart(key) {\n",
              "      const quickchartButtonEl =\n",
              "        document.querySelector('#' + key + ' button');\n",
              "      quickchartButtonEl.disabled = true;  // To prevent multiple clicks.\n",
              "      quickchartButtonEl.classList.add('colab-df-spinner');\n",
              "      try {\n",
              "        const charts = await google.colab.kernel.invokeFunction(\n",
              "            'suggestCharts', [key], {});\n",
              "      } catch (error) {\n",
              "        console.error('Error during call to suggestCharts:', error);\n",
              "      }\n",
              "      quickchartButtonEl.classList.remove('colab-df-spinner');\n",
              "      quickchartButtonEl.classList.add('colab-df-quickchart-complete');\n",
              "    }\n",
              "    (() => {\n",
              "      let quickchartButtonEl =\n",
              "        document.querySelector('#df-a5427b19-c1a1-4938-89d5-fa4f78f805fb button');\n",
              "      quickchartButtonEl.style.display =\n",
              "        google.colab.kernel.accessAllowed ? 'block' : 'none';\n",
              "    })();\n",
              "  </script>\n",
              "</div>\n",
              "\n",
              "    </div>\n",
              "  </div>\n"
            ],
            "application/vnd.google.colaboratory.intrinsic+json": {
              "type": "dataframe",
              "variable_name": "data",
              "summary": "{\n  \"name\": \"data\",\n  \"rows\": 53043,\n  \"fields\": [\n    {\n      \"column\": \"Unnamed: 0\",\n      \"properties\": {\n        \"dtype\": \"number\",\n        \"std\": 15312,\n        \"min\": 0,\n        \"max\": 53042,\n        \"num_unique_values\": 53043,\n        \"samples\": [\n          22261,\n          41400,\n          20065\n        ],\n        \"semantic_type\": \"\",\n        \"description\": \"\"\n      }\n    },\n    {\n      \"column\": \"statement\",\n      \"properties\": {\n        \"dtype\": \"string\",\n        \"num_unique_values\": 51073,\n        \"samples\": [\n          \"he's been a chain smoker for 30 years.\",\n          \"Dependence on therapist I attend IOP groups and individual therapy sessions at the same place, my therapist who I have worked with on and off for a year and a couple months just told me today that she is leaving soon and I am heartbroken. I love my therapist and I don't know how I am going to keep progressing without her. There will be a replacement for her but idk what to do, I don't want a different therapist. :(\",\n          \"These feelings constantly come back. Someone from my past that hurt me came back a month ago and once again disrespected me and i just feel like shit. Idk why these feelings keep resurfacing but it just hurts. I do not want to be over dramatic but Its hurts when you were nothing but loving/kind to someone and they disrespect you. I just hate feeling like this, feeling like i cannot trust anyone or that no one would ever truly love me unless i have something to offer. I am always worried about my looks and its just making me depressed. I really do not feel like i fit in with the world I am just here. Idk what my next step should be to get help but I am really going through it. (Yes I am in therapy) but how do i help myself ? I have been depressed/anxious for years and most day i do not even leave my house. But nobody around me seems to care and honestly I am tired of feeling this way. But at the same time i do not want to give up on myself bc i feel like I am here to be somebody great. I am just trying to find my way right now. It keeps coming back\"\n        ],\n        \"semantic_type\": \"\",\n        \"description\": \"\"\n      }\n    },\n    {\n      \"column\": \"status\",\n      \"properties\": {\n        \"dtype\": \"category\",\n        \"num_unique_values\": 7,\n        \"samples\": [\n          \"Anxiety\",\n          \"Normal\",\n          \"Bipolar\"\n        ],\n        \"semantic_type\": \"\",\n        \"description\": \"\"\n      }\n    }\n  ]\n}"
            }
          },
          "metadata": {},
          "execution_count": 4
        }
      ],
      "source": [
        "data = pd.read_csv(\"/content/drive/MyDrive/Combined_Data.csv\")\n",
        "data.head()"
      ]
    },
    {
      "cell_type": "code",
      "execution_count": null,
      "id": "2d8be51a",
      "metadata": {
        "colab": {
          "base_uri": "https://localhost:8080/"
        },
        "id": "2d8be51a",
        "outputId": "7f2de303-6397-4c3e-f4b5-a6ac57f8ef6e"
      },
      "outputs": [
        {
          "output_type": "stream",
          "name": "stdout",
          "text": [
            "Unnamed: 0    53043\n",
            "statement     52681\n",
            "status        53043\n",
            "dtype: int64\n",
            "Unnamed: 0      0\n",
            "statement     362\n",
            "status          0\n",
            "dtype: int64\n",
            "Unnamed: 0    0\n",
            "statement     0\n",
            "status        0\n",
            "dtype: int64\n",
            "Unnamed: 0    52681\n",
            "statement     52681\n",
            "status        52681\n",
            "dtype: int64\n"
          ]
        }
      ],
      "source": [
        "print(data.count())\n",
        "null_counts = data.isnull().sum()\n",
        "print(null_counts)\n",
        "data = data.dropna()\n",
        "null_counts = data.isnull().sum()\n",
        "print(null_counts)\n",
        "print(data.count())"
      ]
    },
    {
      "cell_type": "code",
      "execution_count": null,
      "id": "4e938d79",
      "metadata": {
        "colab": {
          "base_uri": "https://localhost:8080/"
        },
        "id": "4e938d79",
        "outputId": "4992ee61-138d-4184-f885-f8ed5f3b5ed0"
      },
      "outputs": [
        {
          "output_type": "stream",
          "name": "stdout",
          "text": [
            "status\n",
            "Normal                  16343\n",
            "Depression              15404\n",
            "Suicidal                10652\n",
            "Anxiety                  3841\n",
            "Bipolar                  2777\n",
            "Stress                   2587\n",
            "Personality disorder     1077\n",
            "Name: count, dtype: int64\n"
          ]
        }
      ],
      "source": [
        "status_counts = data['status'].value_counts()\n",
        "print(status_counts)"
      ]
    },
    {
      "cell_type": "code",
      "execution_count": null,
      "id": "5ad06b0d",
      "metadata": {
        "id": "5ad06b0d"
      },
      "outputs": [],
      "source": [
        "def label_status(status):\n",
        "    if status.lower() == 'normal':\n",
        "        return 0\n",
        "    elif status.lower() == 'depression':\n",
        "        return 1\n",
        "    elif status.lower() == 'suicidal':\n",
        "        return 2\n",
        "    else:\n",
        "        return 3\n"
      ]
    },
    {
      "cell_type": "code",
      "source": [
        "data['label'] = data['status'].apply(label_status)\n",
        "label_counts = data['label'].value_counts()\n",
        "\n",
        "print(label_counts)"
      ],
      "metadata": {
        "colab": {
          "base_uri": "https://localhost:8080/"
        },
        "id": "hej0C6D4RcLe",
        "outputId": "c0103e89-ce42-4233-bde1-30b14413b720"
      },
      "id": "hej0C6D4RcLe",
      "execution_count": null,
      "outputs": [
        {
          "output_type": "stream",
          "name": "stdout",
          "text": [
            "label\n",
            "0    16343\n",
            "1    15404\n",
            "2    10652\n",
            "3    10282\n",
            "Name: count, dtype: int64\n"
          ]
        }
      ]
    },
    {
      "cell_type": "code",
      "execution_count": null,
      "id": "213b3c34",
      "metadata": {
        "colab": {
          "base_uri": "https://localhost:8080/"
        },
        "id": "213b3c34",
        "outputId": "a119ed74-5963-4948-e2d8-9195fe70d99c"
      },
      "outputs": [
        {
          "output_type": "stream",
          "name": "stdout",
          "text": [
            "   Unnamed: 0                                          statement   status  \\\n",
            "0           0                                         oh my gosh  Anxiety   \n",
            "1           1  trouble sleeping, confused mind, restless hear...  Anxiety   \n",
            "2           2  All wrong, back off dear, forward doubt. Stay ...  Anxiety   \n",
            "3           3  I've shifted my focus to something else but I'...  Anxiety   \n",
            "4           4  I'm restless and restless, it's been a month n...  Anxiety   \n",
            "\n",
            "   label                                       cleaned_text  \n",
            "0      3                                            oh gosh  \n",
            "1      3       troubl sleep confus mind restless heart tune  \n",
            "2      3  wrong back dear forward doubt stay restless re...  \n",
            "3      3                  shift focu someth els still worri  \n",
            "4      3                   restless restless month boy mean  \n"
          ]
        }
      ],
      "source": [
        "stemmer = PorterStemmer()\n",
        "stop_words = set(stopwords.words('english'))\n",
        "\n",
        "def clean_and_stem_text(text):\n",
        "    # Remove special characters and digits\n",
        "    text = re.sub(r'\\W', ' ', text)\n",
        "    text = re.sub(r'\\d', ' ', text)\n",
        "    text = text.lower()\n",
        "    text = re.sub(r'\\s+', ' ', text)\n",
        "\n",
        "    tokens = word_tokenize(text)\n",
        "\n",
        "    tokens = [stemmer.stem(word) for word in tokens if word not in stop_words]\n",
        "    return ' '.join(tokens)\n",
        "\n",
        "data['cleaned_text'] = data['statement'].apply(clean_and_stem_text)\n",
        "\n",
        "print(data.head())"
      ]
    },
    {
      "cell_type": "code",
      "execution_count": null,
      "id": "04dc8c81",
      "metadata": {
        "id": "04dc8c81"
      },
      "outputs": [],
      "source": [
        "def load_glove_embeddings(file_path):\n",
        "    embeddings_index = {}\n",
        "    with open(file_path, 'r', encoding='utf-8') as f:\n",
        "        for line in f:\n",
        "            values = line.split()\n",
        "            word = values[0]\n",
        "            embeddings_index[word] = np.array(values[1:], dtype='float32')\n",
        "    return embeddings_index\n",
        "\n",
        "glove_embeddings = load_glove_embeddings('/content/drive/MyDrive/glove.6B.100d.txt')\n",
        "embedding_dim = 100"
      ]
    },
    {
      "cell_type": "code",
      "execution_count": null,
      "id": "3e68e0de",
      "metadata": {
        "colab": {
          "base_uri": "https://localhost:8080/"
        },
        "id": "3e68e0de",
        "outputId": "a342c47c-ba4e-41e2-a85f-d70a11c2b420"
      },
      "outputs": [
        {
          "output_type": "stream",
          "name": "stdout",
          "text": [
            "                                           statement  \\\n",
            "0                                         oh my gosh   \n",
            "1  trouble sleeping, confused mind, restless hear...   \n",
            "2  All wrong, back off dear, forward doubt. Stay ...   \n",
            "3  I've shifted my focus to something else but I'...   \n",
            "4  I'm restless and restless, it's been a month n...   \n",
            "\n",
            "                                 statement_embedding  \n",
            "0  [-0.16664142906665802, 0.3021071452115263, 0.0...  \n",
            "1  [-0.2972463634373112, 0.33642129210585897, 0.1...  \n",
            "2  [-0.34173236536825524, 0.33110409991109163, 0....  \n",
            "3  [-0.22032406305273375, 0.4153062411668626, 0.1...  \n",
            "4  [-0.21467593568377197, 0.3199165263213217, 0.1...  \n"
          ]
        }
      ],
      "source": [
        "def sentence_to_embedding(sentence, glove_embeddings, embedding_dim):\n",
        "    embeddings = []\n",
        "    for word in sentence:\n",
        "        if word in glove_embeddings:\n",
        "            embeddings.append(glove_embeddings[word])\n",
        "        else:\n",
        "            embeddings.append(np.zeros(embedding_dim))\n",
        "    if len(embeddings) == 0:\n",
        "        return np.zeros(embedding_dim)\n",
        "    return np.mean(embeddings, axis=0)\n",
        "\n",
        "# create sentence embeddings\n",
        "data['statement_embedding'] = data['cleaned_text'].apply(lambda x: sentence_to_embedding(x, glove_embeddings, embedding_dim))\n",
        "\n",
        "print(data[['statement', 'statement_embedding']].head())"
      ]
    },
    {
      "cell_type": "code",
      "execution_count": null,
      "id": "3285ff73",
      "metadata": {
        "colab": {
          "base_uri": "https://localhost:8080/"
        },
        "id": "3285ff73",
        "outputId": "de5396b8-3cee-4da9-aade-745f118ea680"
      },
      "outputs": [
        {
          "output_type": "stream",
          "name": "stdout",
          "text": [
            "(52681, 100)\n"
          ]
        }
      ],
      "source": [
        "X = np.vstack(data['statement_embedding'].values)\n",
        "y = data['label']\n",
        "print(X.shape)"
      ]
    },
    {
      "cell_type": "code",
      "execution_count": null,
      "id": "42126d93",
      "metadata": {
        "id": "42126d93"
      },
      "outputs": [],
      "source": [
        "embedding_df = pd.DataFrame(X)\n",
        "embedding_df['label']=y\n",
        "embedding_df.to_csv(\"embedding_data.csv\",index=False)"
      ]
    },
    {
      "cell_type": "code",
      "execution_count": null,
      "id": "d78a24c7",
      "metadata": {
        "id": "d78a24c7"
      },
      "outputs": [],
      "source": [
        "# Balance the dataset\n",
        "class_0 = embedding_df[embedding_df['label'] == 0].head(10500)\n",
        "class_1 = embedding_df[embedding_df['label'] == 1].head(10500)\n",
        "class_2 = embedding_df[embedding_df['label'] == 2]\n",
        "class_3 = embedding_df[embedding_df['label'] == 3]\n",
        "# Combine the selected classes\n",
        "data_balanced = pd.concat([class_0, class_1,class_2,class_3])\n",
        "\n",
        "X_balanced = data_balanced.drop(columns='label').values\n",
        "y_balanced = data_balanced['label'].values\n",
        "X_train, X_test, y_train, y_test = train_test_split(\n",
        "    X_balanced, y_balanced, test_size=0.3, random_state=432\n",
        ")"
      ]
    },
    {
      "cell_type": "markdown",
      "source": [
        "### 2 Baseline model"
      ],
      "metadata": {
        "id": "UXeP4ESnk3XR"
      },
      "id": "UXeP4ESnk3XR"
    },
    {
      "cell_type": "markdown",
      "source": [
        "2.1 SVM"
      ],
      "metadata": {
        "id": "HbtDYCUlk7d4"
      },
      "id": "HbtDYCUlk7d4"
    },
    {
      "cell_type": "code",
      "execution_count": null,
      "id": "87b5d338",
      "metadata": {
        "colab": {
          "base_uri": "https://localhost:8080/"
        },
        "id": "87b5d338",
        "outputId": "b90786a7-054c-465b-9d62-cbe35e2cfde7"
      },
      "outputs": [
        {
          "output_type": "stream",
          "name": "stdout",
          "text": [
            "Accuracy: 0.4419685796729721\n",
            "Classification Report:\n",
            "              precision    recall  f1-score   support\n",
            "\n",
            "         0.0       0.85      0.41      0.56      3109\n",
            "         1.0       0.37      0.35      0.36      3180\n",
            "         2.0       0.34      0.40      0.36      3194\n",
            "         3.0       0.44      0.61      0.51      2993\n",
            "\n",
            "    accuracy                           0.44     12476\n",
            "   macro avg       0.50      0.44      0.45     12476\n",
            "weighted avg       0.50      0.44      0.45     12476\n",
            "\n"
          ]
        }
      ],
      "source": [
        "svm_model = SVC(kernel='linear', random_state=42)\n",
        "svm_model.fit(X_train, y_train)\n",
        "\n",
        "y_pred = svm_model.predict(X_test)\n",
        "\n",
        "accuracy = accuracy_score(y_test, y_pred)\n",
        "print(f\"Accuracy: {accuracy}\")\n",
        "print(\"Classification Report:\")\n",
        "print(classification_report(y_test, y_pred))"
      ]
    },
    {
      "cell_type": "code",
      "execution_count": null,
      "id": "d38af27f",
      "metadata": {
        "colab": {
          "base_uri": "https://localhost:8080/"
        },
        "id": "d38af27f",
        "outputId": "9f09149f-2a12-486d-d493-61efde51a441"
      },
      "outputs": [
        {
          "output_type": "stream",
          "name": "stdout",
          "text": [
            "Accuracy: 0.48396922090413597\n",
            "Classification Report:\n",
            "              precision    recall  f1-score   support\n",
            "\n",
            "         0.0       0.83      0.63      0.72      3109\n",
            "         1.0       0.39      0.04      0.08      3180\n",
            "         2.0       0.36      0.67      0.47      3194\n",
            "         3.0       0.46      0.60      0.52      2993\n",
            "\n",
            "    accuracy                           0.48     12476\n",
            "   macro avg       0.51      0.49      0.45     12476\n",
            "weighted avg       0.51      0.48      0.44     12476\n",
            "\n"
          ]
        }
      ],
      "source": [
        "svm_model = SVC(kernel='rbf', random_state=42)\n",
        "svm_model.fit(X_train, y_train)\n",
        "\n",
        "y_pred = svm_model.predict(X_test)\n",
        "\n",
        "accuracy = accuracy_score(y_test, y_pred)\n",
        "print(f\"Accuracy: {accuracy}\")\n",
        "print(\"Classification Report:\")\n",
        "print(classification_report(y_test, y_pred))"
      ]
    },
    {
      "cell_type": "code",
      "execution_count": null,
      "id": "317a2233",
      "metadata": {
        "colab": {
          "base_uri": "https://localhost:8080/"
        },
        "id": "317a2233",
        "outputId": "fd4500dd-a94f-4bd7-ca9c-299ecec72387"
      },
      "outputs": [
        {
          "output_type": "stream",
          "name": "stdout",
          "text": [
            "Accuracy: 0.45126643154857327\n",
            "Classification Report:\n",
            "              precision    recall  f1-score   support\n",
            "\n",
            "         0.0       0.87      0.48      0.62      3109\n",
            "         1.0       0.28      0.05      0.08      3180\n",
            "         2.0       0.35      0.69      0.47      3194\n",
            "         3.0       0.45      0.60      0.51      2993\n",
            "\n",
            "    accuracy                           0.45     12476\n",
            "   macro avg       0.49      0.45      0.42     12476\n",
            "weighted avg       0.49      0.45      0.42     12476\n",
            "\n"
          ]
        }
      ],
      "source": [
        "svm_model = SVC(kernel='poly', random_state=432)\n",
        "svm_model.fit(X_train, y_train)\n",
        "\n",
        "y_pred = svm_model.predict(X_test)\n",
        "\n",
        "accuracy = accuracy_score(y_test, y_pred)\n",
        "print(f\"Accuracy: {accuracy}\")\n",
        "print(\"Classification Report:\")\n",
        "print(classification_report(y_test, y_pred))"
      ]
    },
    {
      "cell_type": "markdown",
      "source": [
        "#### 2.2 softmax"
      ],
      "metadata": {
        "id": "Os_KHR-rlCET"
      },
      "id": "Os_KHR-rlCET"
    },
    {
      "cell_type": "code",
      "execution_count": null,
      "id": "a15f15c0",
      "metadata": {
        "colab": {
          "base_uri": "https://localhost:8080/"
        },
        "id": "a15f15c0",
        "outputId": "3839b2c5-287f-468f-b04d-d7c77456a628"
      },
      "outputs": [
        {
          "output_type": "stream",
          "name": "stdout",
          "text": [
            "Accuracy: 0.4478198140429625\n",
            "Classification Report:\n",
            "              precision    recall  f1-score   support\n",
            "\n",
            "         0.0       0.68      0.53      0.59      3109\n",
            "         1.0       0.37      0.31      0.34      3180\n",
            "         2.0       0.34      0.41      0.37      3194\n",
            "         3.0       0.46      0.55      0.50      2993\n",
            "\n",
            "    accuracy                           0.45     12476\n",
            "   macro avg       0.46      0.45      0.45     12476\n",
            "weighted avg       0.46      0.45      0.45     12476\n",
            "\n"
          ]
        },
        {
          "output_type": "stream",
          "name": "stderr",
          "text": [
            "/usr/local/lib/python3.10/dist-packages/sklearn/linear_model/_logistic.py:460: ConvergenceWarning: lbfgs failed to converge (status=1):\n",
            "STOP: TOTAL NO. of ITERATIONS REACHED LIMIT.\n",
            "\n",
            "Increase the number of iterations (max_iter) or scale the data as shown in:\n",
            "    https://scikit-learn.org/stable/modules/preprocessing.html\n",
            "Please also refer to the documentation for alternative solver options:\n",
            "    https://scikit-learn.org/stable/modules/linear_model.html#logistic-regression\n",
            "  n_iter_i = _check_optimize_result(\n"
          ]
        }
      ],
      "source": [
        "logreg = LogisticRegression(multi_class='multinomial', solver='lbfgs', max_iter=500)\n",
        "\n",
        "logreg.fit(X_train, y_train)\n",
        "\n",
        "y_pred = logreg.predict(X_test)\n",
        "\n",
        "accuracy = accuracy_score(y_test, y_pred)\n",
        "print(f\"Accuracy: {accuracy}\")\n",
        "print(\"Classification Report:\")\n",
        "print(classification_report(y_test, y_pred))"
      ]
    },
    {
      "cell_type": "markdown",
      "source": [
        "#### 2.3 KNN"
      ],
      "metadata": {
        "id": "s8xINqhRljNF"
      },
      "id": "s8xINqhRljNF"
    },
    {
      "cell_type": "code",
      "execution_count": null,
      "id": "bfdf873b",
      "metadata": {
        "colab": {
          "base_uri": "https://localhost:8080/"
        },
        "id": "bfdf873b",
        "outputId": "fb8fe4e4-d4d8-4b93-e5ef-c613d87ca01c"
      },
      "outputs": [
        {
          "output_type": "stream",
          "name": "stdout",
          "text": [
            "Accuracy: 0.4420487335684514\n",
            "Classification Report:\n",
            "              precision    recall  f1-score   support\n",
            "\n",
            "         0.0       0.82      0.57      0.67      3109\n",
            "         1.0       0.34      0.48      0.40      3180\n",
            "         2.0       0.32      0.33      0.33      3194\n",
            "         3.0       0.46      0.38      0.42      2993\n",
            "\n",
            "    accuracy                           0.44     12476\n",
            "   macro avg       0.48      0.44      0.45     12476\n",
            "weighted avg       0.48      0.44      0.45     12476\n",
            "\n"
          ]
        }
      ],
      "source": [
        "\n",
        "knn = KNeighborsClassifier(n_neighbors=5)\n",
        "knn.fit(X_train, y_train)\n",
        "y_pred = knn.predict(X_test)\n",
        "\n",
        "accuracy = accuracy_score(y_test, y_pred)\n",
        "print(f\"Accuracy: {accuracy}\")\n",
        "print(\"Classification Report:\")\n",
        "print(classification_report(y_test, y_pred))"
      ]
    },
    {
      "cell_type": "markdown",
      "source": [
        "### 3 deep learning"
      ],
      "metadata": {
        "id": "v_xntjpQn_Zd"
      },
      "id": "v_xntjpQn_Zd"
    },
    {
      "cell_type": "markdown",
      "source": [
        "#### 3.0 reprocess data"
      ],
      "metadata": {
        "id": "xbSP26usoDHd"
      },
      "id": "xbSP26usoDHd"
    },
    {
      "cell_type": "code",
      "execution_count": null,
      "id": "c9eceef3",
      "metadata": {
        "id": "c9eceef3"
      },
      "outputs": [],
      "source": [
        "from tensorflow.keras.preprocessing.text import Tokenizer\n",
        "from tensorflow.keras.preprocessing.sequence import pad_sequences\n",
        "\n",
        "\n",
        "class_0 = data[data['label'] == 0].head(10500)\n",
        "class_1 = data[data['label'] == 1].head(10500)\n",
        "class_2 = data[data['label'] == 2]\n",
        "class_3 = data[data['label'] == 3]\n",
        "# Combine the selected classes\n",
        "data= pd.concat([class_0, class_1,class_2,class_3])\n",
        "\n",
        "statements = data['cleaned_text'].values\n",
        "labels = data['label'].values\n",
        "\n",
        "# Tokenize the statements\n",
        "tokenizer = Tokenizer(num_words=10000)\n",
        "tokenizer.fit_on_texts(statements)\n",
        "sequences = tokenizer.texts_to_sequences(statements)\n",
        "\n",
        "# Pad sequences\n",
        "max_sequence_length = 1000\n",
        "X = pad_sequences(sequences, maxlen=max_sequence_length)\n",
        "\n",
        "from tensorflow.keras.utils import to_categorical\n",
        "y = to_categorical(labels, num_classes=4)\n",
        "\n",
        "X_train, X_test, y_train, y_test = train_test_split(X, y, test_size=0.2, random_state=42, stratify=labels)\n"
      ]
    },
    {
      "cell_type": "code",
      "source": [
        "# Load GloVe embeddings\n",
        "def load_glove_embeddings(glove_file_path):\n",
        "    embeddings_index = {}\n",
        "    with open(glove_file_path, 'r', encoding='utf8') as f:\n",
        "        for line in f:\n",
        "            values = line.split()\n",
        "            word = values[0]\n",
        "            coefs = np.asarray(values[1:], dtype='float32')\n",
        "            embeddings_index[word] = coefs\n",
        "    return embeddings_index\n",
        "\n",
        "glove_file_path = '/content/drive/MyDrive/glove.6B.100d.txt'\n",
        "embeddings_index = load_glove_embeddings(glove_file_path)\n",
        "\n",
        "# Prepare embedding matrix\n",
        "word_index = tokenizer.word_index\n",
        "embedding_dim = 100\n",
        "embedding_matrix = np.zeros((len(word_index) + 1, embedding_dim))\n",
        "for word, i in word_index.items():\n",
        "    embedding_vector = embeddings_index.get(word)\n",
        "    if embedding_vector is not None:\n",
        "        embedding_matrix[i] = embedding_vector\n"
      ],
      "metadata": {
        "id": "QXiRqZpMO_wr"
      },
      "id": "QXiRqZpMO_wr",
      "execution_count": null,
      "outputs": []
    },
    {
      "cell_type": "markdown",
      "source": [
        "#### 3.1 bi-LSTM"
      ],
      "metadata": {
        "id": "Ps8y5lVUoHNF"
      },
      "id": "Ps8y5lVUoHNF"
    },
    {
      "cell_type": "code",
      "source": [
        "from tensorflow.keras.models import Sequential\n",
        "from tensorflow.keras.layers import Embedding, LSTM, Dense, Dropout, Bidirectional\n",
        "\n",
        "model1 = Sequential()\n",
        "model1.add(Embedding(input_dim=len(word_index) + 1,\n",
        "                    output_dim=embedding_dim,\n",
        "                    weights=[embedding_matrix],\n",
        "                    input_length=max_sequence_length,\n",
        "                    trainable=False))\n",
        "\n",
        "\n",
        "model1.add(Bidirectional(LSTM(128, return_sequences=False)))\n",
        "model1.add(Dropout(0.5))\n",
        "model1.add(Dense(64, activation='relu'))\n",
        "model1.add(Dense(4, activation='softmax'))\n",
        "\n",
        "model1.compile(loss='categorical_crossentropy', optimizer='adam', metrics=['accuracy'])\n",
        "\n",
        "# Summary of the model\n",
        "model1.summary()\n"
      ],
      "metadata": {
        "colab": {
          "base_uri": "https://localhost:8080/",
          "height": 343
        },
        "id": "0EF-2sgcPIP-",
        "outputId": "57fa8cb6-904b-4554-8e3b-0fc5a6ae1ca8"
      },
      "id": "0EF-2sgcPIP-",
      "execution_count": null,
      "outputs": [
        {
          "output_type": "stream",
          "name": "stderr",
          "text": [
            "/usr/local/lib/python3.10/dist-packages/keras/src/layers/core/embedding.py:90: UserWarning: Argument `input_length` is deprecated. Just remove it.\n",
            "  warnings.warn(\n"
          ]
        },
        {
          "output_type": "display_data",
          "data": {
            "text/plain": [
              "\u001b[1mModel: \"sequential\"\u001b[0m\n"
            ],
            "text/html": [
              "<pre style=\"white-space:pre;overflow-x:auto;line-height:normal;font-family:Menlo,'DejaVu Sans Mono',consolas,'Courier New',monospace\"><span style=\"font-weight: bold\">Model: \"sequential\"</span>\n",
              "</pre>\n"
            ]
          },
          "metadata": {}
        },
        {
          "output_type": "display_data",
          "data": {
            "text/plain": [
              "┏━━━━━━━━━━━━━━━━━━━━━━━━━━━━━━━━━━━━━━┳━━━━━━━━━━━━━━━━━━━━━━━━━━━━━┳━━━━━━━━━━━━━━━━━┓\n",
              "┃\u001b[1m \u001b[0m\u001b[1mLayer (type)                        \u001b[0m\u001b[1m \u001b[0m┃\u001b[1m \u001b[0m\u001b[1mOutput Shape               \u001b[0m\u001b[1m \u001b[0m┃\u001b[1m \u001b[0m\u001b[1m        Param #\u001b[0m\u001b[1m \u001b[0m┃\n",
              "┡━━━━━━━━━━━━━━━━━━━━━━━━━━━━━━━━━━━━━━╇━━━━━━━━━━━━━━━━━━━━━━━━━━━━━╇━━━━━━━━━━━━━━━━━┩\n",
              "│ embedding (\u001b[38;5;33mEmbedding\u001b[0m)                │ ?                           │       \u001b[38;5;34m3,458,600\u001b[0m │\n",
              "├──────────────────────────────────────┼─────────────────────────────┼─────────────────┤\n",
              "│ bidirectional (\u001b[38;5;33mBidirectional\u001b[0m)        │ ?                           │     \u001b[38;5;34m0\u001b[0m (unbuilt) │\n",
              "├──────────────────────────────────────┼─────────────────────────────┼─────────────────┤\n",
              "│ dropout (\u001b[38;5;33mDropout\u001b[0m)                    │ ?                           │     \u001b[38;5;34m0\u001b[0m (unbuilt) │\n",
              "├──────────────────────────────────────┼─────────────────────────────┼─────────────────┤\n",
              "│ dense (\u001b[38;5;33mDense\u001b[0m)                        │ ?                           │     \u001b[38;5;34m0\u001b[0m (unbuilt) │\n",
              "├──────────────────────────────────────┼─────────────────────────────┼─────────────────┤\n",
              "│ dense_1 (\u001b[38;5;33mDense\u001b[0m)                      │ ?                           │     \u001b[38;5;34m0\u001b[0m (unbuilt) │\n",
              "└──────────────────────────────────────┴─────────────────────────────┴─────────────────┘\n"
            ],
            "text/html": [
              "<pre style=\"white-space:pre;overflow-x:auto;line-height:normal;font-family:Menlo,'DejaVu Sans Mono',consolas,'Courier New',monospace\">┏━━━━━━━━━━━━━━━━━━━━━━━━━━━━━━━━━━━━━━┳━━━━━━━━━━━━━━━━━━━━━━━━━━━━━┳━━━━━━━━━━━━━━━━━┓\n",
              "┃<span style=\"font-weight: bold\"> Layer (type)                         </span>┃<span style=\"font-weight: bold\"> Output Shape                </span>┃<span style=\"font-weight: bold\">         Param # </span>┃\n",
              "┡━━━━━━━━━━━━━━━━━━━━━━━━━━━━━━━━━━━━━━╇━━━━━━━━━━━━━━━━━━━━━━━━━━━━━╇━━━━━━━━━━━━━━━━━┩\n",
              "│ embedding (<span style=\"color: #0087ff; text-decoration-color: #0087ff\">Embedding</span>)                │ ?                           │       <span style=\"color: #00af00; text-decoration-color: #00af00\">3,458,600</span> │\n",
              "├──────────────────────────────────────┼─────────────────────────────┼─────────────────┤\n",
              "│ bidirectional (<span style=\"color: #0087ff; text-decoration-color: #0087ff\">Bidirectional</span>)        │ ?                           │     <span style=\"color: #00af00; text-decoration-color: #00af00\">0</span> (unbuilt) │\n",
              "├──────────────────────────────────────┼─────────────────────────────┼─────────────────┤\n",
              "│ dropout (<span style=\"color: #0087ff; text-decoration-color: #0087ff\">Dropout</span>)                    │ ?                           │     <span style=\"color: #00af00; text-decoration-color: #00af00\">0</span> (unbuilt) │\n",
              "├──────────────────────────────────────┼─────────────────────────────┼─────────────────┤\n",
              "│ dense (<span style=\"color: #0087ff; text-decoration-color: #0087ff\">Dense</span>)                        │ ?                           │     <span style=\"color: #00af00; text-decoration-color: #00af00\">0</span> (unbuilt) │\n",
              "├──────────────────────────────────────┼─────────────────────────────┼─────────────────┤\n",
              "│ dense_1 (<span style=\"color: #0087ff; text-decoration-color: #0087ff\">Dense</span>)                      │ ?                           │     <span style=\"color: #00af00; text-decoration-color: #00af00\">0</span> (unbuilt) │\n",
              "└──────────────────────────────────────┴─────────────────────────────┴─────────────────┘\n",
              "</pre>\n"
            ]
          },
          "metadata": {}
        },
        {
          "output_type": "display_data",
          "data": {
            "text/plain": [
              "\u001b[1m Total params: \u001b[0m\u001b[38;5;34m3,458,600\u001b[0m (13.19 MB)\n"
            ],
            "text/html": [
              "<pre style=\"white-space:pre;overflow-x:auto;line-height:normal;font-family:Menlo,'DejaVu Sans Mono',consolas,'Courier New',monospace\"><span style=\"font-weight: bold\"> Total params: </span><span style=\"color: #00af00; text-decoration-color: #00af00\">3,458,600</span> (13.19 MB)\n",
              "</pre>\n"
            ]
          },
          "metadata": {}
        },
        {
          "output_type": "display_data",
          "data": {
            "text/plain": [
              "\u001b[1m Trainable params: \u001b[0m\u001b[38;5;34m0\u001b[0m (0.00 B)\n"
            ],
            "text/html": [
              "<pre style=\"white-space:pre;overflow-x:auto;line-height:normal;font-family:Menlo,'DejaVu Sans Mono',consolas,'Courier New',monospace\"><span style=\"font-weight: bold\"> Trainable params: </span><span style=\"color: #00af00; text-decoration-color: #00af00\">0</span> (0.00 B)\n",
              "</pre>\n"
            ]
          },
          "metadata": {}
        },
        {
          "output_type": "display_data",
          "data": {
            "text/plain": [
              "\u001b[1m Non-trainable params: \u001b[0m\u001b[38;5;34m3,458,600\u001b[0m (13.19 MB)\n"
            ],
            "text/html": [
              "<pre style=\"white-space:pre;overflow-x:auto;line-height:normal;font-family:Menlo,'DejaVu Sans Mono',consolas,'Courier New',monospace\"><span style=\"font-weight: bold\"> Non-trainable params: </span><span style=\"color: #00af00; text-decoration-color: #00af00\">3,458,600</span> (13.19 MB)\n",
              "</pre>\n"
            ]
          },
          "metadata": {}
        }
      ]
    },
    {
      "cell_type": "code",
      "source": [
        "history = model1.fit(X_train, y_train, epochs=20, batch_size=64, validation_split=0.2, verbose=2)\n"
      ],
      "metadata": {
        "colab": {
          "base_uri": "https://localhost:8080/"
        },
        "id": "ye2yhZxLPanP",
        "outputId": "952701ff-088f-419c-bf9a-7b273492d7ad"
      },
      "id": "ye2yhZxLPanP",
      "execution_count": null,
      "outputs": [
        {
          "output_type": "stream",
          "name": "stdout",
          "text": [
            "Epoch 1/20\n",
            "420/420 - 45s - 106ms/step - accuracy: 0.5758 - loss: 0.9610 - val_accuracy: 0.6605 - val_loss: 0.8048\n",
            "Epoch 2/20\n",
            "420/420 - 37s - 89ms/step - accuracy: 0.6721 - loss: 0.7990 - val_accuracy: 0.6844 - val_loss: 0.7698\n",
            "Epoch 3/20\n",
            "420/420 - 41s - 98ms/step - accuracy: 0.6943 - loss: 0.7393 - val_accuracy: 0.7006 - val_loss: 0.7247\n",
            "Epoch 4/20\n",
            "420/420 - 41s - 96ms/step - accuracy: 0.6772 - loss: 0.7998 - val_accuracy: 0.5849 - val_loss: 1.1366\n",
            "Epoch 5/20\n",
            "420/420 - 42s - 99ms/step - accuracy: 0.6520 - loss: 0.8451 - val_accuracy: 0.6872 - val_loss: 0.7469\n",
            "Epoch 6/20\n",
            "420/420 - 38s - 89ms/step - accuracy: 0.7039 - loss: 0.7245 - val_accuracy: 0.7094 - val_loss: 0.7034\n",
            "Epoch 7/20\n",
            "420/420 - 41s - 98ms/step - accuracy: 0.7198 - loss: 0.6864 - val_accuracy: 0.7121 - val_loss: 0.7018\n",
            "Epoch 8/20\n",
            "420/420 - 41s - 97ms/step - accuracy: 0.7324 - loss: 0.6605 - val_accuracy: 0.7107 - val_loss: 0.6877\n",
            "Epoch 9/20\n",
            "420/420 - 41s - 97ms/step - accuracy: 0.7407 - loss: 0.6382 - val_accuracy: 0.7252 - val_loss: 0.6719\n",
            "Epoch 10/20\n",
            "420/420 - 41s - 98ms/step - accuracy: 0.7454 - loss: 0.6209 - val_accuracy: 0.7268 - val_loss: 0.6689\n",
            "Epoch 11/20\n",
            "420/420 - 41s - 97ms/step - accuracy: 0.7542 - loss: 0.6047 - val_accuracy: 0.7307 - val_loss: 0.6651\n",
            "Epoch 12/20\n",
            "420/420 - 41s - 98ms/step - accuracy: 0.7597 - loss: 0.5903 - val_accuracy: 0.7234 - val_loss: 0.6815\n",
            "Epoch 13/20\n",
            "420/420 - 41s - 98ms/step - accuracy: 0.7663 - loss: 0.5743 - val_accuracy: 0.7212 - val_loss: 0.6866\n",
            "Epoch 14/20\n",
            "420/420 - 41s - 97ms/step - accuracy: 0.7704 - loss: 0.5598 - val_accuracy: 0.7270 - val_loss: 0.6799\n",
            "Epoch 15/20\n",
            "420/420 - 38s - 89ms/step - accuracy: 0.7803 - loss: 0.5436 - val_accuracy: 0.7209 - val_loss: 0.6891\n",
            "Epoch 16/20\n",
            "420/420 - 38s - 89ms/step - accuracy: 0.7813 - loss: 0.5304 - val_accuracy: 0.7256 - val_loss: 0.6718\n",
            "Epoch 17/20\n",
            "420/420 - 41s - 98ms/step - accuracy: 0.7895 - loss: 0.5155 - val_accuracy: 0.7314 - val_loss: 0.6851\n",
            "Epoch 18/20\n",
            "420/420 - 41s - 97ms/step - accuracy: 0.7967 - loss: 0.4990 - val_accuracy: 0.7274 - val_loss: 0.7106\n",
            "Epoch 19/20\n",
            "420/420 - 41s - 97ms/step - accuracy: 0.8030 - loss: 0.4864 - val_accuracy: 0.7162 - val_loss: 0.7034\n",
            "Epoch 20/20\n",
            "420/420 - 41s - 98ms/step - accuracy: 0.8041 - loss: 0.4817 - val_accuracy: 0.7216 - val_loss: 0.7231\n"
          ]
        }
      ]
    },
    {
      "cell_type": "code",
      "source": [
        "loss, accuracy = model1.evaluate(X_test, y_test, verbose=2)\n",
        "print(f\"Test Accuracy: {accuracy}\")\n",
        "\n",
        "y_pred = model1.predict(X_test)\n",
        "y_pred_classes = np.argmax(y_pred, axis=1)\n",
        "y_test_classes = np.argmax(y_test, axis=1)\n",
        "\n",
        "print(\"Classification Report:\")\n",
        "print(classification_report(y_test_classes, y_pred_classes))\n"
      ],
      "metadata": {
        "colab": {
          "base_uri": "https://localhost:8080/"
        },
        "id": "4MiZd9B2Pfdp",
        "outputId": "095745e1-0e0c-429f-addb-3c40fb1815c6"
      },
      "id": "4MiZd9B2Pfdp",
      "execution_count": null,
      "outputs": [
        {
          "output_type": "stream",
          "name": "stdout",
          "text": [
            "263/263 - 7s - 25ms/step - accuracy: 0.7222 - loss: 0.7261\n",
            "Test Accuracy: 0.7221891283988953\n",
            "\u001b[1m263/263\u001b[0m \u001b[32m━━━━━━━━━━━━━━━━━━━━\u001b[0m\u001b[37m\u001b[0m \u001b[1m7s\u001b[0m 24ms/step\n",
            "Classification Report:\n",
            "              precision    recall  f1-score   support\n",
            "\n",
            "           0       0.84      0.89      0.86      2100\n",
            "           1       0.63      0.57      0.60      2100\n",
            "           2       0.68      0.63      0.65      2131\n",
            "           3       0.72      0.80      0.76      2056\n",
            "\n",
            "    accuracy                           0.72      8387\n",
            "   macro avg       0.72      0.72      0.72      8387\n",
            "weighted avg       0.72      0.72      0.72      8387\n",
            "\n"
          ]
        }
      ]
    },
    {
      "cell_type": "markdown",
      "source": [
        "#### 3.2 GRU"
      ],
      "metadata": {
        "id": "mVJMwo99oNhm"
      },
      "id": "mVJMwo99oNhm"
    },
    {
      "cell_type": "code",
      "source": [
        "from tensorflow.keras.layers import GRU\n",
        "\n",
        "model = Sequential()\n",
        "model.add(Embedding(input_dim=len(word_index) + 1,\n",
        "                    output_dim=embedding_dim,\n",
        "                    weights=[embedding_matrix],\n",
        "                    input_length=max_sequence_length,\n",
        "                    trainable=False))\n",
        "model.add(GRU(128, return_sequences=False))\n",
        "model.add(Dropout(0.5))\n",
        "model.add(Dense(64, activation='relu',kernel_regularizer=regularizers.l2(0.01)))\n",
        "model.add(Dense(4, activation='softmax'))\n",
        "\n",
        "model.compile(loss='categorical_crossentropy', optimizer='adam', metrics=['accuracy'])\n",
        "\n",
        "# Summary of the model\n",
        "model.summary()"
      ],
      "metadata": {
        "colab": {
          "base_uri": "https://localhost:8080/",
          "height": 343
        },
        "id": "n6MGG6Hu-kLT",
        "outputId": "ebdfef39-df10-48e6-faad-15e0f13db97b"
      },
      "id": "n6MGG6Hu-kLT",
      "execution_count": null,
      "outputs": [
        {
          "output_type": "stream",
          "name": "stderr",
          "text": [
            "/usr/local/lib/python3.10/dist-packages/keras/src/layers/core/embedding.py:90: UserWarning: Argument `input_length` is deprecated. Just remove it.\n",
            "  warnings.warn(\n"
          ]
        },
        {
          "output_type": "display_data",
          "data": {
            "text/plain": [
              "\u001b[1mModel: \"sequential_2\"\u001b[0m\n"
            ],
            "text/html": [
              "<pre style=\"white-space:pre;overflow-x:auto;line-height:normal;font-family:Menlo,'DejaVu Sans Mono',consolas,'Courier New',monospace\"><span style=\"font-weight: bold\">Model: \"sequential_2\"</span>\n",
              "</pre>\n"
            ]
          },
          "metadata": {}
        },
        {
          "output_type": "display_data",
          "data": {
            "text/plain": [
              "┏━━━━━━━━━━━━━━━━━━━━━━━━━━━━━━━━━━━━━━┳━━━━━━━━━━━━━━━━━━━━━━━━━━━━━┳━━━━━━━━━━━━━━━━━┓\n",
              "┃\u001b[1m \u001b[0m\u001b[1mLayer (type)                        \u001b[0m\u001b[1m \u001b[0m┃\u001b[1m \u001b[0m\u001b[1mOutput Shape               \u001b[0m\u001b[1m \u001b[0m┃\u001b[1m \u001b[0m\u001b[1m        Param #\u001b[0m\u001b[1m \u001b[0m┃\n",
              "┡━━━━━━━━━━━━━━━━━━━━━━━━━━━━━━━━━━━━━━╇━━━━━━━━━━━━━━━━━━━━━━━━━━━━━╇━━━━━━━━━━━━━━━━━┩\n",
              "│ embedding_2 (\u001b[38;5;33mEmbedding\u001b[0m)              │ ?                           │       \u001b[38;5;34m3,458,600\u001b[0m │\n",
              "├──────────────────────────────────────┼─────────────────────────────┼─────────────────┤\n",
              "│ gru_1 (\u001b[38;5;33mGRU\u001b[0m)                          │ ?                           │     \u001b[38;5;34m0\u001b[0m (unbuilt) │\n",
              "├──────────────────────────────────────┼─────────────────────────────┼─────────────────┤\n",
              "│ dropout_2 (\u001b[38;5;33mDropout\u001b[0m)                  │ ?                           │     \u001b[38;5;34m0\u001b[0m (unbuilt) │\n",
              "├──────────────────────────────────────┼─────────────────────────────┼─────────────────┤\n",
              "│ dense_4 (\u001b[38;5;33mDense\u001b[0m)                      │ ?                           │     \u001b[38;5;34m0\u001b[0m (unbuilt) │\n",
              "├──────────────────────────────────────┼─────────────────────────────┼─────────────────┤\n",
              "│ dense_5 (\u001b[38;5;33mDense\u001b[0m)                      │ ?                           │     \u001b[38;5;34m0\u001b[0m (unbuilt) │\n",
              "└──────────────────────────────────────┴─────────────────────────────┴─────────────────┘\n"
            ],
            "text/html": [
              "<pre style=\"white-space:pre;overflow-x:auto;line-height:normal;font-family:Menlo,'DejaVu Sans Mono',consolas,'Courier New',monospace\">┏━━━━━━━━━━━━━━━━━━━━━━━━━━━━━━━━━━━━━━┳━━━━━━━━━━━━━━━━━━━━━━━━━━━━━┳━━━━━━━━━━━━━━━━━┓\n",
              "┃<span style=\"font-weight: bold\"> Layer (type)                         </span>┃<span style=\"font-weight: bold\"> Output Shape                </span>┃<span style=\"font-weight: bold\">         Param # </span>┃\n",
              "┡━━━━━━━━━━━━━━━━━━━━━━━━━━━━━━━━━━━━━━╇━━━━━━━━━━━━━━━━━━━━━━━━━━━━━╇━━━━━━━━━━━━━━━━━┩\n",
              "│ embedding_2 (<span style=\"color: #0087ff; text-decoration-color: #0087ff\">Embedding</span>)              │ ?                           │       <span style=\"color: #00af00; text-decoration-color: #00af00\">3,458,600</span> │\n",
              "├──────────────────────────────────────┼─────────────────────────────┼─────────────────┤\n",
              "│ gru_1 (<span style=\"color: #0087ff; text-decoration-color: #0087ff\">GRU</span>)                          │ ?                           │     <span style=\"color: #00af00; text-decoration-color: #00af00\">0</span> (unbuilt) │\n",
              "├──────────────────────────────────────┼─────────────────────────────┼─────────────────┤\n",
              "│ dropout_2 (<span style=\"color: #0087ff; text-decoration-color: #0087ff\">Dropout</span>)                  │ ?                           │     <span style=\"color: #00af00; text-decoration-color: #00af00\">0</span> (unbuilt) │\n",
              "├──────────────────────────────────────┼─────────────────────────────┼─────────────────┤\n",
              "│ dense_4 (<span style=\"color: #0087ff; text-decoration-color: #0087ff\">Dense</span>)                      │ ?                           │     <span style=\"color: #00af00; text-decoration-color: #00af00\">0</span> (unbuilt) │\n",
              "├──────────────────────────────────────┼─────────────────────────────┼─────────────────┤\n",
              "│ dense_5 (<span style=\"color: #0087ff; text-decoration-color: #0087ff\">Dense</span>)                      │ ?                           │     <span style=\"color: #00af00; text-decoration-color: #00af00\">0</span> (unbuilt) │\n",
              "└──────────────────────────────────────┴─────────────────────────────┴─────────────────┘\n",
              "</pre>\n"
            ]
          },
          "metadata": {}
        },
        {
          "output_type": "display_data",
          "data": {
            "text/plain": [
              "\u001b[1m Total params: \u001b[0m\u001b[38;5;34m3,458,600\u001b[0m (13.19 MB)\n"
            ],
            "text/html": [
              "<pre style=\"white-space:pre;overflow-x:auto;line-height:normal;font-family:Menlo,'DejaVu Sans Mono',consolas,'Courier New',monospace\"><span style=\"font-weight: bold\"> Total params: </span><span style=\"color: #00af00; text-decoration-color: #00af00\">3,458,600</span> (13.19 MB)\n",
              "</pre>\n"
            ]
          },
          "metadata": {}
        },
        {
          "output_type": "display_data",
          "data": {
            "text/plain": [
              "\u001b[1m Trainable params: \u001b[0m\u001b[38;5;34m0\u001b[0m (0.00 B)\n"
            ],
            "text/html": [
              "<pre style=\"white-space:pre;overflow-x:auto;line-height:normal;font-family:Menlo,'DejaVu Sans Mono',consolas,'Courier New',monospace\"><span style=\"font-weight: bold\"> Trainable params: </span><span style=\"color: #00af00; text-decoration-color: #00af00\">0</span> (0.00 B)\n",
              "</pre>\n"
            ]
          },
          "metadata": {}
        },
        {
          "output_type": "display_data",
          "data": {
            "text/plain": [
              "\u001b[1m Non-trainable params: \u001b[0m\u001b[38;5;34m3,458,600\u001b[0m (13.19 MB)\n"
            ],
            "text/html": [
              "<pre style=\"white-space:pre;overflow-x:auto;line-height:normal;font-family:Menlo,'DejaVu Sans Mono',consolas,'Courier New',monospace\"><span style=\"font-weight: bold\"> Non-trainable params: </span><span style=\"color: #00af00; text-decoration-color: #00af00\">3,458,600</span> (13.19 MB)\n",
              "</pre>\n"
            ]
          },
          "metadata": {}
        }
      ]
    },
    {
      "cell_type": "code",
      "source": [
        "history = model.fit(X_train, y_train, epochs=20, batch_size=64, validation_split=0.2, verbose=2)"
      ],
      "metadata": {
        "colab": {
          "base_uri": "https://localhost:8080/"
        },
        "id": "vjcACKF9-31g",
        "outputId": "7d741208-aa09-4741-d931-2e9b86a2a7ff"
      },
      "id": "vjcACKF9-31g",
      "execution_count": null,
      "outputs": [
        {
          "output_type": "stream",
          "name": "stdout",
          "text": [
            "Epoch 1/20\n",
            "420/420 - 19s - 46ms/step - accuracy: 0.5805 - loss: 1.1942 - val_accuracy: 0.6753 - val_loss: 0.8463\n",
            "Epoch 2/20\n",
            "420/420 - 18s - 43ms/step - accuracy: 0.6887 - loss: 0.8032 - val_accuracy: 0.7034 - val_loss: 0.7568\n",
            "Epoch 3/20\n",
            "420/420 - 20s - 48ms/step - accuracy: 0.7125 - loss: 0.7386 - val_accuracy: 0.7083 - val_loss: 0.7251\n",
            "Epoch 4/20\n",
            "420/420 - 17s - 41ms/step - accuracy: 0.7218 - loss: 0.7035 - val_accuracy: 0.7185 - val_loss: 0.7005\n",
            "Epoch 5/20\n",
            "420/420 - 18s - 42ms/step - accuracy: 0.7349 - loss: 0.6737 - val_accuracy: 0.7152 - val_loss: 0.7223\n",
            "Epoch 6/20\n",
            "420/420 - 18s - 42ms/step - accuracy: 0.6014 - loss: 1.0065 - val_accuracy: 0.6763 - val_loss: 0.8269\n",
            "Epoch 7/20\n",
            "420/420 - 20s - 48ms/step - accuracy: 0.6913 - loss: 0.7902 - val_accuracy: 0.7155 - val_loss: 0.7324\n",
            "Epoch 8/20\n",
            "420/420 - 22s - 53ms/step - accuracy: 0.7164 - loss: 0.7285 - val_accuracy: 0.7030 - val_loss: 0.7445\n",
            "Epoch 9/20\n",
            "420/420 - 23s - 54ms/step - accuracy: 0.7279 - loss: 0.6935 - val_accuracy: 0.7249 - val_loss: 0.6944\n",
            "Epoch 10/20\n",
            "420/420 - 37s - 88ms/step - accuracy: 0.7400 - loss: 0.6692 - val_accuracy: 0.7261 - val_loss: 0.6979\n",
            "Epoch 11/20\n",
            "420/420 - 18s - 42ms/step - accuracy: 0.7497 - loss: 0.6488 - val_accuracy: 0.7294 - val_loss: 0.6840\n",
            "Epoch 12/20\n",
            "420/420 - 17s - 41ms/step - accuracy: 0.7541 - loss: 0.6341 - val_accuracy: 0.7311 - val_loss: 0.6798\n",
            "Epoch 13/20\n",
            "420/420 - 21s - 49ms/step - accuracy: 0.7621 - loss: 0.6138 - val_accuracy: 0.7317 - val_loss: 0.6816\n",
            "Epoch 14/20\n",
            "420/420 - 21s - 49ms/step - accuracy: 0.7709 - loss: 0.5960 - val_accuracy: 0.7359 - val_loss: 0.6760\n",
            "Epoch 15/20\n",
            "420/420 - 21s - 49ms/step - accuracy: 0.7774 - loss: 0.5817 - val_accuracy: 0.7203 - val_loss: 0.7137\n",
            "Epoch 16/20\n",
            "420/420 - 18s - 43ms/step - accuracy: 0.7826 - loss: 0.5722 - val_accuracy: 0.7332 - val_loss: 0.6831\n",
            "Epoch 17/20\n",
            "420/420 - 20s - 47ms/step - accuracy: 0.7898 - loss: 0.5503 - val_accuracy: 0.7332 - val_loss: 0.7000\n",
            "Epoch 18/20\n",
            "420/420 - 20s - 49ms/step - accuracy: 0.7980 - loss: 0.5327 - val_accuracy: 0.7373 - val_loss: 0.6950\n",
            "Epoch 19/20\n",
            "420/420 - 17s - 42ms/step - accuracy: 0.8014 - loss: 0.5188 - val_accuracy: 0.7314 - val_loss: 0.6998\n",
            "Epoch 20/20\n",
            "420/420 - 21s - 51ms/step - accuracy: 0.8112 - loss: 0.4998 - val_accuracy: 0.7337 - val_loss: 0.7088\n"
          ]
        }
      ]
    },
    {
      "cell_type": "code",
      "source": [
        "loss, accuracy = model.evaluate(X_test, y_test, verbose=2)\n",
        "print(f\"Test Accuracy: {accuracy}\")\n",
        "\n",
        "y_pred = model.predict(X_test)\n",
        "y_pred_classes = np.argmax(y_pred, axis=1)\n",
        "y_test_classes = np.argmax(y_test, axis=1)\n",
        "\n",
        "print(\"Classification Report:\")\n",
        "print(classification_report(y_test_classes, y_pred_classes))\n"
      ],
      "metadata": {
        "colab": {
          "base_uri": "https://localhost:8080/"
        },
        "id": "H3upp7_RH8w9",
        "outputId": "d06acb90-3d3b-4bb3-c168-ddc5fbd7f631"
      },
      "id": "H3upp7_RH8w9",
      "execution_count": null,
      "outputs": [
        {
          "output_type": "stream",
          "name": "stdout",
          "text": [
            "263/263 - 3s - 13ms/step - accuracy: 0.7284 - loss: 0.7234\n",
            "Test Accuracy: 0.7283891439437866\n",
            "\u001b[1m263/263\u001b[0m \u001b[32m━━━━━━━━━━━━━━━━━━━━\u001b[0m\u001b[37m\u001b[0m \u001b[1m4s\u001b[0m 16ms/step\n",
            "Classification Report:\n",
            "              precision    recall  f1-score   support\n",
            "\n",
            "           0       0.84      0.89      0.86      2100\n",
            "           1       0.67      0.52      0.59      2100\n",
            "           2       0.63      0.74      0.68      2131\n",
            "           3       0.78      0.76      0.77      2056\n",
            "\n",
            "    accuracy                           0.73      8387\n",
            "   macro avg       0.73      0.73      0.73      8387\n",
            "weighted avg       0.73      0.73      0.72      8387\n",
            "\n"
          ]
        }
      ]
    }
  ],
  "metadata": {
    "kernelspec": {
      "display_name": "Python 3",
      "name": "python3"
    },
    "language_info": {
      "codemirror_mode": {
        "name": "ipython",
        "version": 3
      },
      "file_extension": ".py",
      "mimetype": "text/x-python",
      "name": "python",
      "nbconvert_exporter": "python",
      "pygments_lexer": "ipython3",
      "version": "3.9.13"
    },
    "colab": {
      "provenance": [],
      "gpuType": "T4"
    },
    "accelerator": "GPU"
  },
  "nbformat": 4,
  "nbformat_minor": 5
}